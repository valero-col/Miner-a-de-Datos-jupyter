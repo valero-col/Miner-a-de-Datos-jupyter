{
  "nbformat": 4,
  "nbformat_minor": 0,
  "metadata": {
    "colab": {
      "provenance": []
    },
    "kernelspec": {
      "name": "python3",
      "display_name": "Python 3"
    },
    "language_info": {
      "name": "python"
    }
  },
  "cells": [
    {
      "cell_type": "markdown",
      "source": [
        "**Instalar Paquetes**"
      ],
      "metadata": {
        "id": "hePhXU759_VH"
      }
    },
    {
      "cell_type": "code",
      "execution_count": null,
      "metadata": {
        "colab": {
          "base_uri": "https://localhost:8080/"
        },
        "id": "NfFY3EJi93eL",
        "outputId": "ff7cc3f9-71b3-4ff8-c134-33a0c5fa00b1"
      },
      "outputs": [
        {
          "output_type": "stream",
          "name": "stdout",
          "text": [
            "Requirement already satisfied: openpyxl in /usr/local/lib/python3.11/dist-packages (3.1.5)\n",
            "Requirement already satisfied: et-xmlfile in /usr/local/lib/python3.11/dist-packages (from openpyxl) (2.0.0)\n"
          ]
        }
      ],
      "source": [
        "!pip install openpyxl"
      ]
    },
    {
      "cell_type": "markdown",
      "source": [
        "**Importaciones**"
      ],
      "metadata": {
        "id": "p_xBx6-N975Z"
      }
    },
    {
      "cell_type": "code",
      "source": [
        "import pandas as pd\n",
        "import matplotlib.pyplot as plt\n",
        "import seaborn as sns\n",
        "import openpyxl\n",
        "from google.colab import files"
      ],
      "metadata": {
        "id": "UHFqbIOX-FiM"
      },
      "execution_count": null,
      "outputs": []
    },
    {
      "cell_type": "markdown",
      "source": [
        "**Carga de Excel**"
      ],
      "metadata": {
        "id": "ii2DJfxY_zxq"
      }
    },
    {
      "cell_type": "code",
      "source": [
        "ventas_df = pd.read_excel('ventas.xlsx', sheet_name='RegistroVentas')\n",
        "productos_df = pd.read_excel('ventas.xlsx', sheet_name='Productos')\n",
        "tiendas_df = pd.read_excel('ventas.xlsx', sheet_name='Tiendas')\n"
      ],
      "metadata": {
        "id": "Qjp65D25_yU8"
      },
      "execution_count": null,
      "outputs": []
    },
    {
      "cell_type": "markdown",
      "source": [
        "**Estructura de datos**"
      ],
      "metadata": {
        "id": "-53AzfFWBRdB"
      }
    },
    {
      "cell_type": "code",
      "source": [
        "print('Estructura de Datos')\n",
        "print(f'Registro de Ventas:  {ventas_df.shape} filas x columnas')\n",
        "print(f'Productos:  {productos_df.shape} filas x columnas')\n",
        "print(f'Tiendas:  {ventas_df.shape} filas x columnas')"
      ],
      "metadata": {
        "colab": {
          "base_uri": "https://localhost:8080/"
        },
        "id": "6XkN9awpBQn5",
        "outputId": "3ca8be16-6455-456b-bec8-ba58df07a0be"
      },
      "execution_count": null,
      "outputs": [
        {
          "output_type": "stream",
          "name": "stdout",
          "text": [
            "Estructura de Datos\n",
            "Registro de Ventas:  (4761, 6) filas x columnas\n",
            "Productos:  (8, 3) filas x columnas\n",
            "Tiendas:  (4761, 6) filas x columnas\n"
          ]
        }
      ]
    },
    {
      "cell_type": "markdown",
      "source": [
        "**Limpieza y transformación de Datos**"
      ],
      "metadata": {
        "id": "_8K1ZD52CFDY"
      }
    },
    {
      "cell_type": "code",
      "source": [
        "# Paso 3: Limpieza y transformación de datos\n",
        "# Convertir fecha y calcular total\n",
        "ventas_df['Fecha_ Pedido'] = pd.to_datetime(ventas_df['Fecha_ Pedido'], dayfirst=True)\n",
        "ventas_df['Total_Venta'] = ventas_df['Qtde'] *ventas_df['Precio_Unitario']\n",
        "# Unir todos los datos\n",
        "df_completo = (\n",
        "ventas_df.merge(productos_df, left_on='id_producto',right_on='id_produto', how='left')\n",
        ".merge(tiendas_df, left_on='Cod_Tienda',right_on='codigo_Tienda', how='left')\n",
        ")\n",
        "\n",
        "\n"
      ],
      "metadata": {
        "id": "0HsTTZQsCKj5"
      },
      "execution_count": null,
      "outputs": []
    },
    {
      "cell_type": "markdown",
      "source": [
        "**Análisis básico**"
      ],
      "metadata": {
        "id": "kLx_OAQQHH12"
      }
    },
    {
      "cell_type": "code",
      "source": [
        "# Paso 4: Análisis básico\n",
        "print(\"\\n🔍 Análisis rápido:\")\n",
        "print(f\"Período de ventas: {ventas_df['Fecha_ Pedido'].min().date()} a {ventas_df['Fecha_ Pedido'].max().date()}\")\n",
        "print(f\"Total vendido: R$ {df_completo['Total_Venta'].sum():,.2f}\")\n",
        "print(f\"Productos únicos vendidos:{df_completo['descripción_producto'].nunique()}\")\n",
        "print(f\"Tiendas con ventas:{df_completo['nombre_Tienda'].nunique()}\")\n",
        "# Paso 5: Visualizaciones (mejoradas)\n",
        "plt.figure(figsize=(15, 10))\n",
        "# Gráfico 1: Ventas por producto (TOP 5)\n",
        "plt.subplot(2, 2, 1)\n",
        "top_productos =df_completo.groupby('descripción_producto')['Total_Venta'].sum().nlargest(5)\n",
        "top_productos.plot(kind='barh', color='#1f77b4')\n",
        "plt.title('TOP 5 Productos por Ventas', pad=20)\n",
        "plt.xlabel('Total de Ventas (R$)')\n",
        "sns.despine()"
      ],
      "metadata": {
        "colab": {
          "base_uri": "https://localhost:8080/",
          "height": 576
        },
        "id": "Amhygw7WHIjW",
        "outputId": "81ded366-7840-4953-d0a0-61f0c3fd4c63"
      },
      "execution_count": null,
      "outputs": [
        {
          "output_type": "stream",
          "name": "stdout",
          "text": [
            "\n",
            "🔍 Análisis rápido:\n",
            "Período de ventas: 2023-01-01 a 2023-12-31\n",
            "Total vendido: R$ 72,861,269.76\n",
            "Productos únicos vendidos:8\n",
            "Tiendas con ventas:8\n"
          ]
        },
        {
          "output_type": "display_data",
          "data": {
            "text/plain": [
              "<Figure size 1500x1000 with 1 Axes>"
            ],
            "image/png": "[encoded data removed]"
          },
          "metadata": {}
        }
      ]
    },
    {
      "cell_type": "markdown",
      "source": [
        "**Ventas por Estado**"
      ],
      "metadata": {
        "id": "HdW_XWL0H8WS"
      }
    },
    {
      "cell_type": "code",
      "source": [
        "# Gráfico 2: Ventas por estado\n",
        "plt.subplot(2, 2, 2)\n",
        "ventas_estado =df_completo.groupby('Sigla_Estado')['Total_Venta'].sum().sort_values()\n",
        "ventas_estado.plot(kind='barh', color='#ff7f0e')\n",
        "plt.title('Ventas por Estado', pad=20)\n",
        "plt.xlabel('Total de Ventas (R$)')\n",
        "sns.despine()\n"
      ],
      "metadata": {
        "colab": {
          "base_uri": "https://localhost:8080/",
          "height": 290
        },
        "id": "BTEQFjN_H8Ai",
        "outputId": "3b23bab0-7f71-461c-ea51-3277da3a9593"
      },
      "execution_count": null,
      "outputs": [
        {
          "output_type": "display_data",
          "data": {
            "text/plain": [
              "<Figure size 640x480 with 1 Axes>"
            ],
            "image/png": "[encoded data removed]"
          },
          "metadata": {}
        }
      ]
    },
    {
      "cell_type": "markdown",
      "source": [
        "**Evolución mensual**"
      ],
      "metadata": {
        "id": "KvC9rjpOIQxu"
      }
    },
    {
      "cell_type": "code",
      "source": [
        "plt.subplot(2, 1, 2)\n",
        "ventas_mensuales = df_completo.set_index('Fecha_ Pedido').resample('ME')['Total_Venta'].sum()\n",
        "ventas_mensuales.plot(marker='o', linestyle='-', color='#2ca02c',\n",
        "linewidth=2)\n",
        "plt.title('Evolución Mensual de Ventas', pad=20)\n",
        "plt.ylabel('Total de Ventas (R$)')\n",
        "plt.grid(True, alpha=0.3)\n",
        "sns.despine()\n",
        "plt.tight_layout()\n",
        "plt.show()"
      ],
      "metadata": {
        "colab": {
          "base_uri": "https://localhost:8080/",
          "height": 305
        },
        "id": "3I7yZkE4IU7N",
        "outputId": "2d212ebf-42e4-4586-be8b-79355b5690fd"
      },
      "execution_count": null,
      "outputs": [
        {
          "output_type": "display_data",
          "data": {
            "text/plain": [
              "<Figure size 640x480 with 1 Axes>"
            ],
            "image/png": "[encoded data removed]"
          },
          "metadata": {}
        }
      ]
    },
    {
      "cell_type": "markdown",
      "source": [
        "**Tabla dinámica: Análisis Básico**"
      ],
      "metadata": {
        "id": "3SwN3ku_IyUG"
      }
    },
    {
      "cell_type": "code",
      "source": [
        "print(\"\\n📌 Resumen por Producto y Estado:\")\n",
        "resumen = pd.pivot_table(df_completo,\n",
        "values='Total_Venta',\n",
        "index='descripción_producto',\n",
        "columns='Sigla_Estado',\n",
        "aggfunc='sum',\n",
        "margins=True,\n",
        "margins_name='TOTAL')\n",
        "display(resumen.style.background_gradient(cmap='Blues').format('R${:.2f}'))\n",
        "# Paso 6: Exportar resultados\n",
        "df_completo.to_excel('ventas_analizadas.xlsx', index=False)\n",
        "files.download('ventas_analizadas.xlsx')\n",
        "print(\"\\n✅ Análisis completado! El archivo 'ventas_analizadas.xlsx'se ha descargado.\")"
      ],
      "metadata": {
        "colab": {
          "base_uri": "https://localhost:8080/",
          "height": 432
        },
        "id": "_LctErygIvku",
        "outputId": "a1b10b97-d59e-4b5b-b50e-bcba64ad7677"
      },
      "execution_count": null,
      "outputs": [
        {
          "output_type": "stream",
          "name": "stdout",
          "text": [
            "\n",
            "📌 Resumen por Producto y Estado:\n"
          ]
        },
        {
          "output_type": "display_data",
          "data": {
            "text/plain": [
              "<pandas.io.formats.style.Styler at 0x7d8593bc9d50>"
            ],
            "text/html": [
              "<style type=\"text/css\">\n",
              "#T_aabde_row0_col0, #T_aabde_row0_col6, #T_aabde_row4_col2, #T_aabde_row4_col7 {\n",
              "  background-color: #f5fafe;\n",
              "  color: #000000;\n",
              "}\n",
              "#T_aabde_row0_col1, #T_aabde_row1_col2, #T_aabde_row1_col7 {\n",
              "  background-color: #f0f6fd;\n",
              "  color: #000000;\n",
              "}\n",
              "#T_aabde_row0_col2, #T_aabde_row4_col1 {\n",
              "  background-color: #f3f8fe;\n",
              "  color: #000000;\n",
              "}\n",
              "#T_aabde_row0_col3, #T_aabde_row1_col5 {\n",
              "  background-color: #eef5fc;\n",
              "  color: #000000;\n",
              "}\n",
              "#T_aabde_row0_col4, #T_aabde_row3_col0, #T_aabde_row3_col1, #T_aabde_row3_col2, #T_aabde_row3_col5, #T_aabde_row3_col6, #T_aabde_row3_col7, #T_aabde_row3_col8, #T_aabde_row4_col3, #T_aabde_row4_col6, #T_aabde_row4_col8 {\n",
              "  background-color: #f7fbff;\n",
              "  color: #000000;\n",
              "}\n",
              "#T_aabde_row0_col5, #T_aabde_row1_col8, #T_aabde_row4_col5 {\n",
              "  background-color: #f2f8fd;\n",
              "  color: #000000;\n",
              "}\n",
              "#T_aabde_row0_col7, #T_aabde_row1_col4 {\n",
              "  background-color: #f4f9fe;\n",
              "  color: #000000;\n",
              "}\n",
              "#T_aabde_row0_col8, #T_aabde_row4_col4 {\n",
              "  background-color: #f6faff;\n",
              "  color: #000000;\n",
              "}\n",
              "#T_aabde_row1_col0 {\n",
              "  background-color: #f2f7fd;\n",
              "  color: #000000;\n",
              "}\n",
              "#T_aabde_row1_col1, #T_aabde_row7_col5, #T_aabde_row7_col6, #T_aabde_row7_col7 {\n",
              "  background-color: #ecf4fb;\n",
              "  color: #000000;\n",
              "}\n",
              "#T_aabde_row1_col3, #T_aabde_row4_col0 {\n",
              "  background-color: #f5f9fe;\n",
              "  color: #000000;\n",
              "}\n",
              "#T_aabde_row1_col6, #T_aabde_row3_col4 {\n",
              "  background-color: #eff6fc;\n",
              "  color: #000000;\n",
              "}\n",
              "#T_aabde_row2_col0 {\n",
              "  background-color: #c1d9ed;\n",
              "  color: #000000;\n",
              "}\n",
              "#T_aabde_row2_col1 {\n",
              "  background-color: #c9ddf0;\n",
              "  color: #000000;\n",
              "}\n",
              "#T_aabde_row2_col2, #T_aabde_row2_col8 {\n",
              "  background-color: #bfd8ed;\n",
              "  color: #000000;\n",
              "}\n",
              "#T_aabde_row2_col3, #T_aabde_row2_col5 {\n",
              "  background-color: #b9d6ea;\n",
              "  color: #000000;\n",
              "}\n",
              "#T_aabde_row2_col4 {\n",
              "  background-color: #c8dcf0;\n",
              "  color: #000000;\n",
              "}\n",
              "#T_aabde_row2_col6 {\n",
              "  background-color: #bad6eb;\n",
              "  color: #000000;\n",
              "}\n",
              "#T_aabde_row2_col7 {\n",
              "  background-color: #b3d3e8;\n",
              "  color: #000000;\n",
              "}\n",
              "#T_aabde_row3_col3 {\n",
              "  background-color: #f1f7fd;\n",
              "  color: #000000;\n",
              "}\n",
              "#T_aabde_row5_col0, #T_aabde_row6_col3, #T_aabde_row7_col1 {\n",
              "  background-color: #e0ecf8;\n",
              "  color: #000000;\n",
              "}\n",
              "#T_aabde_row5_col1, #T_aabde_row5_col5 {\n",
              "  background-color: #dbe9f6;\n",
              "  color: #000000;\n",
              "}\n",
              "#T_aabde_row5_col2 {\n",
              "  background-color: #d9e7f5;\n",
              "  color: #000000;\n",
              "}\n",
              "#T_aabde_row5_col3 {\n",
              "  background-color: #e8f1fa;\n",
              "  color: #000000;\n",
              "}\n",
              "#T_aabde_row5_col4 {\n",
              "  background-color: #e3eef9;\n",
              "  color: #000000;\n",
              "}\n",
              "#T_aabde_row5_col6 {\n",
              "  background-color: #ddeaf7;\n",
              "  color: #000000;\n",
              "}\n",
              "#T_aabde_row5_col7, #T_aabde_row6_col7 {\n",
              "  background-color: #dae8f6;\n",
              "  color: #000000;\n",
              "}\n",
              "#T_aabde_row5_col8, #T_aabde_row6_col1 {\n",
              "  background-color: #dfebf7;\n",
              "  color: #000000;\n",
              "}\n",
              "#T_aabde_row6_col0 {\n",
              "  background-color: #cfe1f2;\n",
              "  color: #000000;\n",
              "}\n",
              "#T_aabde_row6_col2 {\n",
              "  background-color: #cee0f2;\n",
              "  color: #000000;\n",
              "}\n",
              "#T_aabde_row6_col4, #T_aabde_row6_col8 {\n",
              "  background-color: #d6e6f4;\n",
              "  color: #000000;\n",
              "}\n",
              "#T_aabde_row6_col5 {\n",
              "  background-color: #cddff1;\n",
              "  color: #000000;\n",
              "}\n",
              "#T_aabde_row6_col6 {\n",
              "  background-color: #d9e8f5;\n",
              "  color: #000000;\n",
              "}\n",
              "#T_aabde_row7_col0 {\n",
              "  background-color: #eaf3fb;\n",
              "  color: #000000;\n",
              "}\n",
              "#T_aabde_row7_col2, #T_aabde_row7_col8 {\n",
              "  background-color: #edf4fc;\n",
              "  color: #000000;\n",
              "}\n",
              "#T_aabde_row7_col3 {\n",
              "  background-color: #c7dcef;\n",
              "  color: #000000;\n",
              "}\n",
              "#T_aabde_row7_col4 {\n",
              "  background-color: #eaf2fb;\n",
              "  color: #000000;\n",
              "}\n",
              "#T_aabde_row8_col0, #T_aabde_row8_col1, #T_aabde_row8_col2, #T_aabde_row8_col3, #T_aabde_row8_col4, #T_aabde_row8_col5, #T_aabde_row8_col6, #T_aabde_row8_col7, #T_aabde_row8_col8 {\n",
              "  background-color: #08306b;\n",
              "  color: #f1f1f1;\n",
              "}\n",
              "</style>\n",
              "<table id=\"T_aabde\" class=\"dataframe\">\n",
              "  <thead>\n",
              "    <tr>\n",
              "      <th class=\"index_name level0\" >Sigla_Estado</th>\n",
              "      <th id=\"T_aabde_level0_col0\" class=\"col_heading level0 col0\" >AM</th>\n",
              "      <th id=\"T_aabde_level0_col1\" class=\"col_heading level0 col1\" >BA</th>\n",
              "      <th id=\"T_aabde_level0_col2\" class=\"col_heading level0 col2\" >ES</th>\n",
              "      <th id=\"T_aabde_level0_col3\" class=\"col_heading level0 col3\" >GO</th>\n",
              "      <th id=\"T_aabde_level0_col4\" class=\"col_heading level0 col4\" >MA</th>\n",
              "      <th id=\"T_aabde_level0_col5\" class=\"col_heading level0 col5\" >PR</th>\n",
              "      <th id=\"T_aabde_level0_col6\" class=\"col_heading level0 col6\" >RJ</th>\n",
              "      <th id=\"T_aabde_level0_col7\" class=\"col_heading level0 col7\" >SP</th>\n",
              "      <th id=\"T_aabde_level0_col8\" class=\"col_heading level0 col8\" >TOTAL</th>\n",
              "    </tr>\n",
              "    <tr>\n",
              "      <th class=\"index_name level0\" >descripción_producto</th>\n",
              "      <th class=\"blank col0\" >&nbsp;</th>\n",
              "      <th class=\"blank col1\" >&nbsp;</th>\n",
              "      <th class=\"blank col2\" >&nbsp;</th>\n",
              "      <th class=\"blank col3\" >&nbsp;</th>\n",
              "      <th class=\"blank col4\" >&nbsp;</th>\n",
              "      <th class=\"blank col5\" >&nbsp;</th>\n",
              "      <th class=\"blank col6\" >&nbsp;</th>\n",
              "      <th class=\"blank col7\" >&nbsp;</th>\n",
              "      <th class=\"blank col8\" >&nbsp;</th>\n",
              "    </tr>\n",
              "  </thead>\n",
              "  <tbody>\n",
              "    <tr>\n",
              "      <th id=\"T_aabde_level0_row0\" class=\"row_heading level0 row0\" >Audifinos</th>\n",
              "      <td id=\"T_aabde_row0_col0\" class=\"data row0 col0\" >R$317364.00</td>\n",
              "      <td id=\"T_aabde_row0_col1\" class=\"data row0 col1\" >R$136104.00</td>\n",
              "      <td id=\"T_aabde_row0_col2\" class=\"data row0 col2\" >R$567948.00</td>\n",
              "      <td id=\"T_aabde_row0_col3\" class=\"data row0 col3\" >R$20670.00</td>\n",
              "      <td id=\"T_aabde_row0_col4\" class=\"data row0 col4\" >R$782121.00</td>\n",
              "      <td id=\"T_aabde_row0_col5\" class=\"data row0 col5\" >R$424848.00</td>\n",
              "      <td id=\"T_aabde_row0_col6\" class=\"data row0 col6\" >R$738396.00</td>\n",
              "      <td id=\"T_aabde_row0_col7\" class=\"data row0 col7\" >R$853671.00</td>\n",
              "      <td id=\"T_aabde_row0_col8\" class=\"data row0 col8\" >R$3841122.00</td>\n",
              "    </tr>\n",
              "    <tr>\n",
              "      <th id=\"T_aabde_level0_row1\" class=\"row_heading level0 row1\" >Billetera</th>\n",
              "      <td id=\"T_aabde_row1_col0\" class=\"data row1 col0\" >R$427980.00</td>\n",
              "      <td id=\"T_aabde_row1_col1\" class=\"data row1 col1\" >R$165480.00</td>\n",
              "      <td id=\"T_aabde_row1_col2\" class=\"data row1 col2\" >R$691110.00</td>\n",
              "      <td id=\"T_aabde_row1_col3\" class=\"data row1 col3\" >R$11550.00</td>\n",
              "      <td id=\"T_aabde_row1_col4\" class=\"data row1 col4\" >R$1055880.00</td>\n",
              "      <td id=\"T_aabde_row1_col5\" class=\"data row1 col5\" >R$616560.00</td>\n",
              "      <td id=\"T_aabde_row1_col6\" class=\"data row1 col6\" >R$1154370.00</td>\n",
              "      <td id=\"T_aabde_row1_col7\" class=\"data row1 col7\" >R$1200780.00</td>\n",
              "      <td id=\"T_aabde_row1_col8\" class=\"data row1 col8\" >R$5323710.00</td>\n",
              "    </tr>\n",
              "    <tr>\n",
              "      <th id=\"T_aabde_level0_row2\" class=\"row_heading level0 row2\" >Bolso</th>\n",
              "      <td id=\"T_aabde_row2_col0\" class=\"data row2 col0\" >R$1867131.00</td>\n",
              "      <td id=\"T_aabde_row2_col1\" class=\"data row2 col1\" >R$486513.00</td>\n",
              "      <td id=\"T_aabde_row2_col2\" class=\"data row2 col2\" >R$2982015.00</td>\n",
              "      <td id=\"T_aabde_row2_col3\" class=\"data row2 col3\" >R$87912.00</td>\n",
              "      <td id=\"T_aabde_row2_col4\" class=\"data row2 col4\" >R$4471524.00</td>\n",
              "      <td id=\"T_aabde_row2_col5\" class=\"data row2 col5\" >R$2539458.00</td>\n",
              "      <td id=\"T_aabde_row2_col6\" class=\"data row2 col6\" >R$4482513.00</td>\n",
              "      <td id=\"T_aabde_row2_col7\" class=\"data row2 col7\" >R$5394600.00</td>\n",
              "      <td id=\"T_aabde_row2_col8\" class=\"data row2 col8\" >R$22311666.00</td>\n",
              "    </tr>\n",
              "    <tr>\n",
              "      <th id=\"T_aabde_level0_row3\" class=\"row_heading level0 row3\" >Botella</th>\n",
              "      <td id=\"T_aabde_row3_col0\" class=\"data row3 col0\" >R$253512.50</td>\n",
              "      <td id=\"T_aabde_row3_col1\" class=\"data row3 col1\" >R$67643.10</td>\n",
              "      <td id=\"T_aabde_row3_col2\" class=\"data row3 col2\" >R$340840.10</td>\n",
              "      <td id=\"T_aabde_row3_col3\" class=\"data row3 col3\" >R$16105.50</td>\n",
              "      <td id=\"T_aabde_row3_col4\" class=\"data row3 col4\" >R$1433866.70</td>\n",
              "      <td id=\"T_aabde_row3_col5\" class=\"data row3 col5\" >R$216052.30</td>\n",
              "      <td id=\"T_aabde_row3_col6\" class=\"data row3 col6\" >R$644100.70</td>\n",
              "      <td id=\"T_aabde_row3_col7\" class=\"data row3 col7\" >R$600198.30</td>\n",
              "      <td id=\"T_aabde_row3_col8\" class=\"data row3 col8\" >R$3572319.20</td>\n",
              "    </tr>\n",
              "    <tr>\n",
              "      <th id=\"T_aabde_level0_row4\" class=\"row_heading level0 row4\" >Gorra</th>\n",
              "      <td id=\"T_aabde_row4_col0\" class=\"data row4 col0\" >R$331961.38</td>\n",
              "      <td id=\"T_aabde_row4_col1\" class=\"data row4 col1\" >R$105770.43</td>\n",
              "      <td id=\"T_aabde_row4_col2\" class=\"data row4 col2\" >R$432580.13</td>\n",
              "      <td id=\"T_aabde_row4_col3\" class=\"data row4 col3\" >R$7244.55</td>\n",
              "      <td id=\"T_aabde_row4_col4\" class=\"data row4 col4\" >R$847773.34</td>\n",
              "      <td id=\"T_aabde_row4_col5\" class=\"data row4 col5\" >R$424852.61</td>\n",
              "      <td id=\"T_aabde_row4_col6\" class=\"data row4 col6\" >R$622709.32</td>\n",
              "      <td id=\"T_aabde_row4_col7\" class=\"data row4 col7\" >R$778547.64</td>\n",
              "      <td id=\"T_aabde_row4_col8\" class=\"data row4 col8\" >R$3551439.40</td>\n",
              "    </tr>\n",
              "    <tr>\n",
              "      <th id=\"T_aabde_level0_row5\" class=\"row_heading level0 row5\" >Maleta</th>\n",
              "      <td id=\"T_aabde_row5_col0\" class=\"data row5 col0\" >R$938477.20</td>\n",
              "      <td id=\"T_aabde_row5_col1\" class=\"data row5 col1\" >R$321478.36</td>\n",
              "      <td id=\"T_aabde_row5_col2\" class=\"data row5 col2\" >R$1826536.21</td>\n",
              "      <td id=\"T_aabde_row5_col3\" class=\"data row5 col3\" >R$27954.64</td>\n",
              "      <td id=\"T_aabde_row5_col4\" class=\"data row5 col4\" >R$2338205.96</td>\n",
              "      <td id=\"T_aabde_row5_col5\" class=\"data row5 col5\" >R$1354801.66</td>\n",
              "      <td id=\"T_aabde_row5_col6\" class=\"data row5 col6\" >R$2397110.38</td>\n",
              "      <td id=\"T_aabde_row5_col7\" class=\"data row5 col7\" >R$2870342.50</td>\n",
              "      <td id=\"T_aabde_row5_col8\" class=\"data row5 col8\" >R$12074906.91</td>\n",
              "    </tr>\n",
              "    <tr>\n",
              "      <th id=\"T_aabde_level0_row6\" class=\"row_heading level0 row6\" >Mochila</th>\n",
              "      <td id=\"T_aabde_row6_col0\" class=\"data row6 col0\" >R$1473361.65</td>\n",
              "      <td id=\"T_aabde_row6_col1\" class=\"data row6 col1\" >R$285838.47</td>\n",
              "      <td id=\"T_aabde_row6_col2\" class=\"data row6 col2\" >R$2378201.31</td>\n",
              "      <td id=\"T_aabde_row6_col3\" class=\"data row6 col3\" >R$39121.38</td>\n",
              "      <td id=\"T_aabde_row6_col4\" class=\"data row6 col4\" >R$3359390.76</td>\n",
              "      <td id=\"T_aabde_row6_col5\" class=\"data row6 col5\" >R$1966164.84</td>\n",
              "      <td id=\"T_aabde_row6_col6\" class=\"data row6 col6\" >R$2645741.07</td>\n",
              "      <td id=\"T_aabde_row6_col7\" class=\"data row6 col7\" >R$2839455.00</td>\n",
              "      <td id=\"T_aabde_row6_col8\" class=\"data row6 col8\" >R$14987274.48</td>\n",
              "    </tr>\n",
              "    <tr>\n",
              "      <th id=\"T_aabde_level0_row7\" class=\"row_heading level0 row7\" >Tennis</th>\n",
              "      <td id=\"T_aabde_row7_col0\" class=\"data row7 col0\" >R$639419.43</td>\n",
              "      <td id=\"T_aabde_row7_col1\" class=\"data row7 col1\" >R$268319.22</td>\n",
              "      <td id=\"T_aabde_row7_col2\" class=\"data row7 col2\" >R$841139.13</td>\n",
              "      <td id=\"T_aabde_row7_col3\" class=\"data row7 col3\" >R$74604.27</td>\n",
              "      <td id=\"T_aabde_row7_col4\" class=\"data row7 col4\" >R$1860944.28</td>\n",
              "      <td id=\"T_aabde_row7_col5\" class=\"data row7 col5\" >R$682965.27</td>\n",
              "      <td id=\"T_aabde_row7_col6\" class=\"data row7 col6\" >R$1378417.95</td>\n",
              "      <td id=\"T_aabde_row7_col7\" class=\"data row7 col7\" >R$1453022.22</td>\n",
              "      <td id=\"T_aabde_row7_col8\" class=\"data row7 col8\" >R$7198831.77</td>\n",
              "    </tr>\n",
              "    <tr>\n",
              "      <th id=\"T_aabde_level0_row8\" class=\"row_heading level0 row8\" >TOTAL</th>\n",
              "      <td id=\"T_aabde_row8_col0\" class=\"data row8 col0\" >R$6249207.16</td>\n",
              "      <td id=\"T_aabde_row8_col1\" class=\"data row8 col1\" >R$1837146.58</td>\n",
              "      <td id=\"T_aabde_row8_col2\" class=\"data row8 col2\" >R$10060369.88</td>\n",
              "      <td id=\"T_aabde_row8_col3\" class=\"data row8 col3\" >R$285162.34</td>\n",
              "      <td id=\"T_aabde_row8_col4\" class=\"data row8 col4\" >R$16149706.04</td>\n",
              "      <td id=\"T_aabde_row8_col5\" class=\"data row8 col5\" >R$8225702.68</td>\n",
              "      <td id=\"T_aabde_row8_col6\" class=\"data row8 col6\" >R$14063358.42</td>\n",
              "      <td id=\"T_aabde_row8_col7\" class=\"data row8 col7\" >R$15990616.66</td>\n",
              "      <td id=\"T_aabde_row8_col8\" class=\"data row8 col8\" >R$72861269.76</td>\n",
              "    </tr>\n",
              "  </tbody>\n",
              "</table>\n"
            ]
          },
          "metadata": {}
        },
        {
          "output_type": "display_data",
          "data": {
            "text/plain": [
              "<IPython.core.display.Javascript object>"
            ],
            "application/javascript": [
              "\n",
              "    async function download(id, filename, size) {\n",
              "      if (!google.colab.kernel.accessAllowed) {\n",
              "        return;\n",
              "      }\n",
              "      const div = document.createElement('div');\n",
              "      const label = document.createElement('label');\n",
              "      label.textContent = `Downloading \"${filename}\": `;\n",
              "      div.appendChild(label);\n",
              "      const progress = document.createElement('progress');\n",
              "      progress.max = size;\n",
              "      div.appendChild(progress);\n",
              "      document.body.appendChild(div);\n",
              "\n",
              "      const buffers = [];\n",
              "      let downloaded = 0;\n",
              "\n",
              "      const channel = await google.colab.kernel.comms.open(id);\n",
              "      // Send a message to notify the kernel that we're ready.\n",
              "      channel.send({})\n",
              "\n",
              "      for await (const message of channel.messages) {\n",
              "        // Send a message to notify the kernel that we're ready.\n",
              "        channel.send({})\n",
              "        if (message.buffers) {\n",
              "          for (const buffer of message.buffers) {\n",
              "            buffers.push(buffer);\n",
              "            downloaded += buffer.byteLength;\n",
              "            progress.value = downloaded;\n",
              "          }\n",
              "        }\n",
              "      }\n",
              "      const blob = new Blob(buffers, {type: 'application/binary'});\n",
              "      const a = document.createElement('a');\n",
              "      a.href = window.URL.createObjectURL(blob);\n",
              "      a.download = filename;\n",
              "      div.appendChild(a);\n",
              "      a.click();\n",
              "      div.remove();\n",
              "    }\n",
              "  "
            ]
          },
          "metadata": {}
        },
        {
          "output_type": "display_data",
          "data": {
            "text/plain": [
              "<IPython.core.display.Javascript object>"
            ],
            "application/javascript": [
              "download(\"download_e77b9d0e-32f8-4341-aa6c-2a11b0048956\", \"ventas_analizadas.xlsx\", 394973)"
            ]
          },
          "metadata": {}
        },
        {
          "output_type": "stream",
          "name": "stdout",
          "text": [
            "\n",
            "✅ Análisis completado! El archivo 'ventas_analizadas.xlsx'se ha descargado.\n"
          ]
        }
      ]
    }
  ]
}